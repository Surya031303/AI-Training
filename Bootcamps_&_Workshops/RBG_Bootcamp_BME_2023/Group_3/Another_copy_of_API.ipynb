{
  "nbformat": 4,
  "nbformat_minor": 0,
  "metadata": {
    "colab": {
      "provenance": []
    },
    "kernelspec": {
      "name": "python3",
      "display_name": "Python 3"
    },
    "language_info": {
      "name": "python"
    }
  },
  "cells": [
    {
      "cell_type": "markdown",
      "source": [
        "SPEECH TO TEXT"
      ],
      "metadata": {
        "id": "a5dv2GYxcHUd"
      }
    },
    {
      "cell_type": "markdown",
      "source": [
        "OCR - OPTICAL CHARACTER RECOGNITION"
      ],
      "metadata": {
        "id": "HoWb9OgVg04O"
      }
    },
    {
      "cell_type": "code",
      "source": [
        "import requests\n",
        "import json\n",
        "url = 'http://13.233.246.91:8002/api/v1/transcribe'\n",
        "headers = {\n",
        "    'accept': 'application/json',\n",
        "}\n",
        "files = {\n",
        "    'file': ('/content/diathermy.png', open('/content/diathermy.png', 'rb'), 'image/jpeg'),\n",
        "    'timestamps': (None, 's'),\n",
        "    'is_digital': (None, ''),\n",
        "}\n",
        "\n",
        "response = requests.post(url, headers=headers, files=files)\n",
        "if response.status_code == 200:\n",
        "    print(response.content)\n",
        "    response_data = response.json()\n",
        "    with open('OCR.json', 'w') as json_file:\n",
        "      json.dump(response_data, json_file)\n",
        "else:\n",
        "    print(f'Error: Unable to fetch audio. Status code: {response.status_code}')"
      ],
      "metadata": {
        "colab": {
          "base_uri": "https://localhost:8080/"
        },
        "id": "hl3HW-h3Wv0T",
        "outputId": "f16607e3-7a82-406b-841b-15e0c6681a31"
      },
      "execution_count": 1,
      "outputs": [
        {
          "output_type": "stream",
          "name": "stdout",
          "text": [
            "b'{\"transcriberOutput\":{\"fileText\":\"Diathermy\\\\n\",\"pageTexts\":[{\"pageNumber\":0,\"isDigital\":false,\"pageText\":\"Diathermy\\\\n\",\"pageBlocks\":[{\"text\":\"Diathermy\\\\n\",\"bbox\":[277.0,367.0,514.0,419.0]}]}]},\"timeStamps\":\"s\",\"processTimes\":{\"total\":0.5734908580780029,\"pre_processing\":0.0001270771026611328,\"transcription\":0.5728104114532471}}'\n"
          ]
        }
      ]
    },
    {
      "cell_type": "code",
      "source": [
        "import json\n",
        "\n",
        "with open('/content/OCR.json', 'r') as json_file:\n",
        "    data = json.load(json_file)\n",
        "    data = data['transcriberOutput']\n",
        "    data = data['fileText']\n",
        "print(\"OCR OUTPUT:\",data)\n",
        "a = {\"ISO:3456\": \"ultrasoundmachine\",\"ISO:8746\":\"MRI\",\"ISO:9256\":\"Patient monitoring\",\"ISO:7382\":\"Diathermy\",\"ISO:1234\":\"ventilator\",\"ISO:3916\":\"stethoscope\"}\n",
        "with open(\"newfile.json\", \"w\") as f:\n",
        "    json.dump(a, f)\n",
        "k = a.keys()  # Use .keys() to get the dictionary keys\n",
        "key_l = list(k)\n",
        "l =[]\n",
        "for key, values in a.items():\n",
        "  if (data == values):\n",
        "\n",
        "    l.append(key)\n",
        "print(l)\n"
      ],
      "metadata": {
        "colab": {
          "base_uri": "https://localhost:8080/"
        },
        "id": "_eFtd5Ikhi3d",
        "outputId": "d97bf8d5-959a-42fc-96c8-16de115bd0fe"
      },
      "execution_count": 2,
      "outputs": [
        {
          "output_type": "stream",
          "name": "stdout",
          "text": [
            "OCR OUTPUT: Diathermy\n",
            "\n",
            "[]\n"
          ]
        }
      ]
    },
    {
      "cell_type": "code",
      "source": [
        "import json\n",
        "\n",
        "# Load data from the OCR JSON file\n",
        "with open('/content/OCR.json', 'r') as json_file:\n",
        "    data_dict = json.load(json_file)\n",
        "    transcriber_output = data_dict.get('transcriberOutput', {})\n",
        "    file_text = transcriber_output.get('fileText', '')\n",
        "\n",
        "# Print the OCR OUTPUT\n",
        "print(\"OCR OUTPUT:\", file_text)\n",
        "print(data)\n",
        "f = data\n",
        "\n",
        "# Define your dictionary\n",
        "a = {\n",
        "    \"ISO:3456\": \"ULTRASOUNDMACHINE\",\n",
        "    \"ISO:8746\": \"MRI\",\n",
        "    \"ISO:9256\": \"Patient monitoring\",\n",
        "    \"ISO:7382\": \"Diathermy\",\n",
        "    \"ISO:1234\": \"ventilator\",\n",
        "    \"ISO:3916\": \"stethoscope\"\n",
        "}\n",
        "\n",
        "# Initialize an empty list to store keys with matching values\n",
        "matching_keys = []\n",
        "\n",
        "# Split the values in the dictionary and check if 'data' is in the list\n",
        "for key, value in a.items():\n",
        "   #print(value)\n",
        "    #print(data)\n",
        "    if f.strip() == value.strip():\n",
        "      matching_keys.append(key)\n",
        "\n",
        "print(\"the iso standard is:\" ,matching_keys)\n"
      ],
      "metadata": {
        "colab": {
          "base_uri": "https://localhost:8080/"
        },
        "id": "V68oRynGyw_F",
        "outputId": "2a9a340a-6291-45d7-c7b1-a0a20603ebac"
      },
      "execution_count": 3,
      "outputs": [
        {
          "output_type": "stream",
          "name": "stdout",
          "text": [
            "OCR OUTPUT: Diathermy\n",
            "\n",
            "Diathermy\n",
            "\n",
            "the iso standard is: ['ISO:7382']\n"
          ]
        }
      ]
    }
  ]
}